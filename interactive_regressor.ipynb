{
 "cells": [
  {
   "cell_type": "markdown",
   "metadata": {},
   "source": [
    "# Searching for chemical compositions of Superconductors"
   ]
  },
  {
   "cell_type": "code",
   "execution_count": 1,
   "metadata": {},
   "outputs": [],
   "source": [
    "from sklearn.model_selection import train_test_split\n",
    "from sklearn.ensemble import RandomForestRegressor\n",
    "from sklearn.metrics import mean_absolute_error "
   ]
  },
  {
   "cell_type": "code",
   "execution_count": 2,
   "metadata": {},
   "outputs": [],
   "source": [
    "import warnings \n",
    "warnings.filterwarnings('ignore')\n",
    "warnings.filterwarnings('ignore', category=DeprecationWarning)"
   ]
  },
  {
   "cell_type": "code",
   "execution_count": 3,
   "metadata": {},
   "outputs": [],
   "source": [
    "import numpy as np\n",
    "import pandas as pd\n",
    "import time\n",
    "%matplotlib inline\n",
    "import matplotlib.pyplot as plt\n",
    "from matplotlib import cm\n",
    "import seaborn as sb\n",
    "from IPython.display import display,HTML\n",
    "import ipywidgets as widgets\n",
    "import random\n",
    "\n",
    "# plt.style.use('dark_background')\n",
    "# from jupyterthemes import jtplot\n",
    "# jtplot.style(theme='monokai', context='notebook', ticks=True, grid=True)\n",
    "import matplotlib as mpl\n",
    "mpl.rcParams['figure.facecolor'] = '#222222'\n",
    "mpl.rcParams['axes.facecolor'] = '#222222'\n",
    "mpl.rcParams['axes.labelcolor'] = '#edece9'\n",
    "mpl.rcParams['xtick.color'] = '#edece9'\n",
    "mpl.rcParams['ytick.color'] = '#edece9'\n",
    "mpl.rcParams['text.color'] = '#edece9' "
   ]
  },
  {
   "cell_type": "markdown",
   "metadata": {},
   "source": [
    "### Load trained Random Forest Regressor model"
   ]
  },
  {
   "cell_type": "code",
   "execution_count": 4,
   "metadata": {},
   "outputs": [],
   "source": [
    "import zipfile\n",
    "import os\n",
    "import pickle\n",
    "\n",
    "filebase = \"rf_regressor\"\n",
    "\n",
    "with zipfile.ZipFile(filebase+\".zip\") as zipref:\n",
    "    zipref.extractall()\n",
    "\n",
    "with open(filebase+\".dat\", 'rb') as f:\n",
    "    model = pickle.load(f)\n",
    "\n",
    "os.remove(filebase+\".dat\")\n",
    "\n",
    "# with open(\"../../sc_data_inc/\"+filebase+\".dat\", 'rb') as f:\n",
    "#     model = pickle.load(f)"
   ]
  },
  {
   "cell_type": "markdown",
   "metadata": {},
   "source": [
    "### Initialize input features "
   ]
  },
  {
   "cell_type": "code",
   "execution_count": 5,
   "metadata": {},
   "outputs": [],
   "source": [
    "data_head = pd.read_csv(\"SC_data_frac.csv\",nrows=0) \n",
    "data_Tc = pd.read_csv(\"SC_data_frac.csv\",usecols=[\"Critical Temperature\"]) "
   ]
  },
  {
   "cell_type": "code",
   "execution_count": 6,
   "metadata": {},
   "outputs": [],
   "source": [
    "col_bool = [col[:-2]+\"_bool\" for col in data_head if col.endswith(\"_x\")]\n",
    "\n",
    "data_headr = [\"Scaled T_c\"]\n",
    "data_headr.extend(col_bool)\n",
    "\n",
    "data_Tc = data_Tc[data_Tc[\"Critical Temperature\"]>0]\n",
    "data_std = data_Tc.std()"
   ]
  },
  {
   "cell_type": "markdown",
   "metadata": {},
   "source": [
    "### Initialize variables for interactive ploting "
   ]
  },
  {
   "cell_type": "code",
   "execution_count": 48,
   "metadata": {},
   "outputs": [
    {
     "output_type": "stream",
     "name": "stdout",
     "text": [
      "Help on class IntRangeSlider in module ipywidgets.widgets.widget_int:\n\nclass IntRangeSlider(_BoundedIntRange)\n |  IntRangeSlider(*args, **kwargs)\n |  \n |  Slider/trackbar that represents a pair of ints bounded by minimum and maximum value.\n |  \n |  Parameters\n |  ----------\n |  value : int tuple\n |      The pair (`lower`, `upper`) of integers\n |  min : int\n |      The lowest allowed value for `lower`\n |  max : int\n |      The highest allowed value for `upper`\n |  \n |  Method resolution order:\n |      IntRangeSlider\n |      _BoundedIntRange\n |      _IntRange\n |      _Int\n |      ipywidgets.widgets.widget_description.DescriptionWidget\n |      ipywidgets.widgets.domwidget.DOMWidget\n |      ipywidgets.widgets.valuewidget.ValueWidget\n |      ipywidgets.widgets.widget_core.CoreWidget\n |      ipywidgets.widgets.widget.Widget\n |      ipywidgets.widgets.widget.LoggingHasTraits\n |      traitlets.traitlets.HasTraits\n |      traitlets.traitlets.HasDescriptors\n |      builtins.object\n |  \n |  Data descriptors defined here:\n |  \n |  continuous_update\n |      A boolean (True, False) trait.\n |  \n |  disabled\n |      A boolean (True, False) trait.\n |  \n |  orientation\n |      An enum of strings where the case should be ignored.\n |  \n |  readout\n |      A boolean (True, False) trait.\n |  \n |  readout_format\n |      A string holding a number format specifier, e.g. '.3f'\n |      \n |      This traitlet holds a string that can be passed to the\n |      `d3-format <https://github.com/d3/d3-format>`_ JavaScript library.\n |      The format allowed is similar to the Python format specifier (PEP 3101).\n |  \n |  step\n |      A casting version of the int trait.\n |  \n |  style\n |      An instance trait which coerces a dict to an instance.\n |      \n |      This lets the instance be specified as a dict, which is used\n |      to initialize the instance.\n |      \n |      Also, we default to a trivial instance, even if args and kwargs\n |      is not specified.\n |  \n |  ----------------------------------------------------------------------\n |  Methods inherited from _BoundedIntRange:\n |  \n |  __init__(self, *args, **kwargs)\n |      Public constructor\n |  \n |  ----------------------------------------------------------------------\n |  Data descriptors inherited from _BoundedIntRange:\n |  \n |  max\n |      A casting version of the int trait.\n |  \n |  min\n |      A casting version of the int trait.\n |  \n |  ----------------------------------------------------------------------\n |  Data descriptors inherited from _IntRange:\n |  \n |  lower\n |  \n |  upper\n |  \n |  value\n |      An instance of a Python tuple.\n |  \n |  ----------------------------------------------------------------------\n |  Data descriptors inherited from ipywidgets.widgets.widget_description.DescriptionWidget:\n |  \n |  description\n |      A trait for unicode strings.\n |  \n |  description_tooltip\n |      A trait for unicode strings.\n |  \n |  ----------------------------------------------------------------------\n |  Methods inherited from ipywidgets.widgets.domwidget.DOMWidget:\n |  \n |  add_class(self, className)\n |      Adds a class to the top level element of the widget.\n |      \n |      Doesn't add the class if it already exists.\n |  \n |  remove_class(self, className)\n |      Removes a class from the top level element of the widget.\n |      \n |      Doesn't remove the class if it doesn't exist.\n |  \n |  ----------------------------------------------------------------------\n |  Data descriptors inherited from ipywidgets.widgets.domwidget.DOMWidget:\n |  \n |  layout\n |      An instance trait which coerces a dict to an instance.\n |      \n |      This lets the instance be specified as a dict, which is used\n |      to initialize the instance.\n |      \n |      Also, we default to a trivial instance, even if args and kwargs\n |      is not specified.\n |  \n |  ----------------------------------------------------------------------\n |  Methods inherited from ipywidgets.widgets.valuewidget.ValueWidget:\n |  \n |  get_interact_value(self)\n |      Return the value for this widget which should be passed to\n |      interactive functions. Custom widgets can change this method\n |      to process the raw value ``self.value``.\n |  \n |  ----------------------------------------------------------------------\n |  Methods inherited from ipywidgets.widgets.widget.Widget:\n |  \n |  __del__(self)\n |      Object disposal\n |  \n |  __repr__(self)\n |      Return repr(self).\n |  \n |  add_traits(self, **traits)\n |      Dynamically add trait attributes to the Widget.\n |  \n |  close(self)\n |      Close method.\n |      \n |      Closes the underlying comm.\n |      When the comm is closed, all of the widget views are automatically\n |      removed from the front-end.\n |  \n |  get_state(self, key=None, drop_defaults=False)\n |      Gets the widget state, or a piece of it.\n |      \n |      Parameters\n |      ----------\n |      key : unicode or iterable (optional)\n |          A single property's name or iterable of property names to get.\n |      \n |      Returns\n |      -------\n |      state : dict of states\n |      metadata : dict\n |          metadata for each field: {key: metadata}\n |  \n |  get_view_spec(self)\n |  \n |  hold_sync(self)\n |      Hold syncing any state until the outermost context manager exits\n |  \n |  notify_change(self, change)\n |      Called when a property has changed.\n |  \n |  on_displayed(self, callback, remove=False)\n |      (Un)Register a widget displayed callback.\n |      \n |      Parameters\n |      ----------\n |      callback: method handler\n |          Must have a signature of::\n |      \n |              callback(widget, **kwargs)\n |      \n |          kwargs from display are passed through without modification.\n |      remove: bool\n |          True if the callback should be unregistered.\n |  \n |  on_msg(self, callback, remove=False)\n |      (Un)Register a custom msg receive callback.\n |      \n |      Parameters\n |      ----------\n |      callback: callable\n |          callback will be passed three arguments when a message arrives::\n |      \n |              callback(widget, content, buffers)\n |      \n |      remove: bool\n |          True if the callback should be unregistered.\n |  \n |  open(self)\n |      Open a comm to the frontend if one isn't already open.\n |  \n |  send(self, content, buffers=None)\n |      Sends a custom msg to the widget model in the front-end.\n |      \n |      Parameters\n |      ----------\n |      content : dict\n |          Content of the message to send.\n |      buffers : list of binary buffers\n |          Binary buffers to send with message\n |  \n |  send_state(self, key=None)\n |      Sends the widget state, or a piece of it, to the front-end, if it exists.\n |      \n |      Parameters\n |      ----------\n |      key : unicode, or iterable (optional)\n |          A single property's name or iterable of property names to sync with the front-end.\n |  \n |  set_state(self, sync_data)\n |      Called when a state is received from the front-end.\n |  \n |  ----------------------------------------------------------------------\n |  Class methods inherited from ipywidgets.widgets.widget.Widget:\n |  \n |  close_all() from traitlets.traitlets.MetaHasTraits\n |  \n |  ----------------------------------------------------------------------\n |  Static methods inherited from ipywidgets.widgets.widget.Widget:\n |  \n |  get_manager_state(drop_defaults=False, widgets=None)\n |      Returns the full state for a widget manager for embedding\n |      \n |      :param drop_defaults: when True, it will not include default value\n |      :param widgets: list with widgets to include in the state (or all widgets when None)\n |      :return:\n |  \n |  handle_comm_opened(comm, msg)\n |      Static method, called when a widget is constructed.\n |  \n |  on_widget_constructed(callback)\n |      Registers a callback to be called when a widget is constructed.\n |      \n |      The callback must have the following signature:\n |      callback(widget)\n |  \n |  ----------------------------------------------------------------------\n |  Data descriptors inherited from ipywidgets.widgets.widget.Widget:\n |  \n |  comm\n |      A trait whose value must be an instance of a specified class.\n |      \n |      The value can also be an instance of a subclass of the specified class.\n |      \n |      Subclasses can declare default classes by overriding the klass attribute\n |  \n |  keys\n |      An instance of a Python list.\n |  \n |  model_id\n |      Gets the model id of this widget.\n |      \n |      If a Comm doesn't exist yet, a Comm will be created automagically.\n |  \n |  ----------------------------------------------------------------------\n |  Data and other attributes inherited from ipywidgets.widgets.widget.Widget:\n |  \n |  widget_types = <ipywidgets.widgets.widget.WidgetRegistry object>\n |  \n |  widgets = {'000935ca3d8f4f7c9a6676667c4a0875': ToggleButton(value=Fals...\n |  \n |  ----------------------------------------------------------------------\n |  Data descriptors inherited from ipywidgets.widgets.widget.LoggingHasTraits:\n |  \n |  log\n |      A trait whose value must be an instance of a specified class.\n |      \n |      The value can also be an instance of a subclass of the specified class.\n |      \n |      Subclasses can declare default classes by overriding the klass attribute\n |  \n |  ----------------------------------------------------------------------\n |  Methods inherited from traitlets.traitlets.HasTraits:\n |  \n |  __getstate__(self)\n |  \n |  __setstate__(self, state)\n |  \n |  has_trait(self, name)\n |      Returns True if the object has a trait with the specified name.\n |  \n |  hold_trait_notifications(self)\n |      Context manager for bundling trait change notifications and cross\n |      validation.\n |      \n |      Use this when doing multiple trait assignments (init, config), to avoid\n |      race conditions in trait notifiers requesting other trait values.\n |      All trait notifications will fire after all values have been assigned.\n |  \n |  observe(self, handler, names=traitlets.All, type='change')\n |      Setup a handler to be called when a trait changes.\n |      \n |      This is used to setup dynamic notifications of trait changes.\n |      \n |      Parameters\n |      ----------\n |      handler : callable\n |          A callable that is called when a trait changes. Its\n |          signature should be ``handler(change)``, where ``change`` is a\n |          dictionary. The change dictionary at least holds a 'type' key.\n |          * ``type``: the type of notification.\n |          Other keys may be passed depending on the value of 'type'. In the\n |          case where type is 'change', we also have the following keys:\n |          * ``owner`` : the HasTraits instance\n |          * ``old`` : the old value of the modified trait attribute\n |          * ``new`` : the new value of the modified trait attribute\n |          * ``name`` : the name of the modified trait attribute.\n |      names : list, str, All\n |          If names is All, the handler will apply to all traits.  If a list\n |          of str, handler will apply to all names in the list.  If a\n |          str, the handler will apply just to that name.\n |      type : str, All (default: 'change')\n |          The type of notification to filter by. If equal to All, then all\n |          notifications are passed to the observe handler.\n |  \n |  on_trait_change(self, handler=None, name=None, remove=False)\n |      DEPRECATED: Setup a handler to be called when a trait changes.\n |      \n |      This is used to setup dynamic notifications of trait changes.\n |      \n |      Static handlers can be created by creating methods on a HasTraits\n |      subclass with the naming convention '_[traitname]_changed'.  Thus,\n |      to create static handler for the trait 'a', create the method\n |      _a_changed(self, name, old, new) (fewer arguments can be used, see\n |      below).\n |      \n |      If `remove` is True and `handler` is not specified, all change\n |      handlers for the specified name are uninstalled.\n |      \n |      Parameters\n |      ----------\n |      handler : callable, None\n |          A callable that is called when a trait changes.  Its\n |          signature can be handler(), handler(name), handler(name, new),\n |          handler(name, old, new), or handler(name, old, new, self).\n |      name : list, str, None\n |          If None, the handler will apply to all traits.  If a list\n |          of str, handler will apply to all names in the list.  If a\n |          str, the handler will apply just to that name.\n |      remove : bool\n |          If False (the default), then install the handler.  If True\n |          then unintall it.\n |  \n |  set_trait(self, name, value)\n |      Forcibly sets trait attribute, including read-only attributes.\n |  \n |  setup_instance(*args, **kwargs)\n |      This is called **before** self.__init__ is called.\n |  \n |  trait_defaults(self, *names, **metadata)\n |      Return a trait's default value or a dictionary of them\n |      \n |      Notes\n |      -----\n |      Dynamically generated default values may\n |      depend on the current state of the object.\n |  \n |  trait_has_value(self, name)\n |      Returns True if the specified trait has a value.\n |      \n |      This will return false even if ``getattr`` would return a\n |      dynamically generated default value. These default values\n |      will be recognized as existing only after they have been\n |      generated.\n |      \n |      Example\n |      \n |      .. code-block:: python\n |      \n |          class MyClass(HasTraits):\n |              i = Int()\n |      \n |          mc = MyClass()\n |          assert not mc.trait_has_value(\"i\")\n |          mc.i # generates a default value\n |          assert mc.trait_has_value(\"i\")\n |  \n |  trait_metadata(self, traitname, key, default=None)\n |      Get metadata values for trait by key.\n |  \n |  trait_names(self, **metadata)\n |      Get a list of all the names of this class' traits.\n |  \n |  trait_values(self, **metadata)\n |      A ``dict`` of trait names and their values.\n |      \n |      The metadata kwargs allow functions to be passed in which\n |      filter traits based on metadata values.  The functions should\n |      take a single value as an argument and return a boolean.  If\n |      any function returns False, then the trait is not included in\n |      the output.  If a metadata key doesn't exist, None will be passed\n |      to the function.\n |      \n |      Returns\n |      -------\n |      A ``dict`` of trait names and their values.\n |      \n |      Notes\n |      -----\n |      Trait values are retrieved via ``getattr``, any exceptions raised\n |      by traits or the operations they may trigger will result in the\n |      absence of a trait value in the result ``dict``.\n |  \n |  traits(self, **metadata)\n |      Get a ``dict`` of all the traits of this class.  The dictionary\n |      is keyed on the name and the values are the TraitType objects.\n |      \n |      The TraitTypes returned don't know anything about the values\n |      that the various HasTrait's instances are holding.\n |      \n |      The metadata kwargs allow functions to be passed in which\n |      filter traits based on metadata values.  The functions should\n |      take a single value as an argument and return a boolean.  If\n |      any function returns False, then the trait is not included in\n |      the output.  If a metadata key doesn't exist, None will be passed\n |      to the function.\n |  \n |  unobserve(self, handler, names=traitlets.All, type='change')\n |      Remove a trait change handler.\n |      \n |      This is used to unregister handlers to trait change notifications.\n |      \n |      Parameters\n |      ----------\n |      handler : callable\n |          The callable called when a trait attribute changes.\n |      names : list, str, All (default: All)\n |          The names of the traits for which the specified handler should be\n |          uninstalled. If names is All, the specified handler is uninstalled\n |          from the list of notifiers corresponding to all changes.\n |      type : str or All (default: 'change')\n |          The type of notification to filter by. If All, the specified handler\n |          is uninstalled from the list of notifiers corresponding to all types.\n |  \n |  unobserve_all(self, name=traitlets.All)\n |      Remove trait change handlers of any type for the specified name.\n |      If name is not specified, removes all trait notifiers.\n |  \n |  ----------------------------------------------------------------------\n |  Class methods inherited from traitlets.traitlets.HasTraits:\n |  \n |  class_own_trait_events(name) from traitlets.traitlets.MetaHasTraits\n |      Get a dict of all event handlers defined on this class, not a parent.\n |      \n |      Works like ``event_handlers``, except for excluding traits from parents.\n |  \n |  class_own_traits(**metadata) from traitlets.traitlets.MetaHasTraits\n |      Get a dict of all the traitlets defined on this class, not a parent.\n |      \n |      Works like `class_traits`, except for excluding traits from parents.\n |  \n |  class_trait_names(**metadata) from traitlets.traitlets.MetaHasTraits\n |      Get a list of all the names of this class' traits.\n |      \n |      This method is just like the :meth:`trait_names` method,\n |      but is unbound.\n |  \n |  class_traits(**metadata) from traitlets.traitlets.MetaHasTraits\n |      Get a ``dict`` of all the traits of this class.  The dictionary\n |      is keyed on the name and the values are the TraitType objects.\n |      \n |      This method is just like the :meth:`traits` method, but is unbound.\n |      \n |      The TraitTypes returned don't know anything about the values\n |      that the various HasTrait's instances are holding.\n |      \n |      The metadata kwargs allow functions to be passed in which\n |      filter traits based on metadata values.  The functions should\n |      take a single value as an argument and return a boolean.  If\n |      any function returns False, then the trait is not included in\n |      the output.  If a metadata key doesn't exist, None will be passed\n |      to the function.\n |  \n |  trait_events(name=None) from traitlets.traitlets.MetaHasTraits\n |      Get a ``dict`` of all the event handlers of this class.\n |      \n |      Parameters\n |      ----------\n |      name : str (default: None)\n |          The name of a trait of this class. If name is ``None`` then all\n |          the event handlers of this class will be returned instead.\n |      \n |      Returns\n |      -------\n |      The event handlers associated with a trait name, or all event handlers.\n |  \n |  ----------------------------------------------------------------------\n |  Data descriptors inherited from traitlets.traitlets.HasTraits:\n |  \n |  cross_validation_lock\n |      A contextmanager for running a block with our cross validation lock set\n |      to True.\n |      \n |      At the end of the block, the lock's value is restored to its value\n |      prior to entering the block.\n |  \n |  ----------------------------------------------------------------------\n |  Static methods inherited from traitlets.traitlets.HasDescriptors:\n |  \n |  __new__(*args, **kwargs)\n |      Create and return a new object.  See help(type) for accurate signature.\n |  \n |  ----------------------------------------------------------------------\n |  Data descriptors inherited from traitlets.traitlets.HasDescriptors:\n |  \n |  __dict__\n |      dictionary for instance variables (if defined)\n |  \n |  __weakref__\n |      list of weak references to the object (if defined)\n\n"
     ]
    }
   ],
   "source": [
    "help(widgets.IntRangeSlider)"
   ]
  },
  {
   "cell_type": "code",
   "execution_count": 49,
   "metadata": {},
   "outputs": [],
   "source": [
    "T_range = widgets.IntRangeSlider(value=[1, 100],\n",
    "                                 min=0,\n",
    "                                 max=150,\n",
    "                                 step=1,\n",
    "                                 description='Critical Temperature range:',\n",
    "                                 disabled=False,\n",
    "                                 continuous_update=False,\n",
    "                                 orientation='horizontal',\n",
    "                                 readout=True,\n",
    "                                 readout_format='d',\n",
    "                                 style={'description_width': 'initial'},\n",
    "                                  layout={'width':'800px'}\n",
    "                                )\n",
    "\n",
    "sym_dict = {}\n",
    "for sym in col_bool:\n",
    "    sym_dict[sym[:-5]] = widgets.ToggleButton(value=bool(np.random.choice([True,False])),\n",
    "                                          description=sym[:-5],\n",
    "                                          disabled=False,\n",
    "                                          button_style='',\n",
    "                                          indent=False, layout={'width':'45px', 'height':'30px', 'align':'center'}\n",
    "                                         )\n",
    "changed_dict = {}\n",
    "changed_dict['T_range'] = T_range\n",
    "changed_dict['Update'] =  widgets.Checkbox(value=True,\n",
    "                                           description='Update',\n",
    "                                           disabled=False,\n",
    "                                           button_style=''\n",
    "                                          )\n"
   ]
  },
  {
   "cell_type": "code",
   "execution_count": 50,
   "metadata": {},
   "outputs": [],
   "source": [
    "sel_all = widgets.Button(description=\"Select All\")\n",
    "def select_all_elem(button_click):\n",
    "    for sym in col_bool:\n",
    "        sym_dict[sym[:-5]].value = True\n",
    "    changed_dict['Update'].value = not(changed_dict['Update'].value)\n",
    "sel_all.on_click(select_all_elem)\n",
    "\n",
    "unsel_all = widgets.Button(description=\"Unselect All\")\n",
    "def unselect_all_elem(button_click):\n",
    "    for sym in col_bool:\n",
    "        sym_dict[sym[:-5]].value = False\n",
    "    changed_dict['Update'].value = not(changed_dict['Update'].value)\n",
    "unsel_all.on_click(unselect_all_elem)\n",
    "    \n",
    "inv_all = widgets.Button(description=\"Invert Selection\")\n",
    "def invert_all_elem(button_click):\n",
    "    for sym in col_bool:\n",
    "        sym_dict[sym[:-5]].value = not(sym_dict[sym[:-5]].value)\n",
    "    changed_dict['Update'].value = not(changed_dict['Update'].value)\n",
    "inv_all.on_click(invert_all_elem)\n",
    "\n",
    "rand_all = widgets.Button(description=\"Randomize Selection\")\n",
    "def randomize_elem(button_click):\n",
    "    p = np.random.uniform(0,1)\n",
    "    for sym in col_bool:\n",
    "        sym_dict[sym[:-5]].value = bool(np.random.choice([True,False],p=[p,1-p]))\n",
    "    changed_dict['Update'].value = not(changed_dict['Update'].value)\n",
    "rand_all.on_click(randomize_elem)\n",
    "\n",
    "update_all = widgets.Button(description=\"Update Plot\")\n",
    "def update_plot(button_click):\n",
    "    changed_dict['Update'].value = not(changed_dict['Update'].value)\n",
    "update_all.on_click(update_plot)   "
   ]
  },
  {
   "cell_type": "code",
   "execution_count": 51,
   "metadata": {},
   "outputs": [],
   "source": [
    "\n",
    "def show_plot(**kwargs):\n",
    "    global fig,ax\n",
    "    try:\n",
    "        plt.close();\n",
    "        fig = plt.figure(figsize=(12,8));\n",
    "        ax = fig.add_subplot(111);\n",
    "        # ax.cla()\n",
    "        # fig.clf()\n",
    "    except:\n",
    "        fig = plt.figure(figsize=(12,8));\n",
    "        ax = fig.add_subplot(111);\n",
    "    \n",
    "    test_X = pd.DataFrame(columns=data_headr)\n",
    "    t_lim = kwargs['T_range']\n",
    "    # for i,t in enumerate(np.linspace(t_lim[0],t_lim[1],101)):\n",
    "    #     test_X.loc[i,\"Scaled T_c\"] = t/data_std[\"Critical Temperature\"]\n",
    "    test_X.loc[:,\"Scaled T_c\"] = np.linspace(t_lim[0],t_lim[1],101)/data_std[\"Critical Temperature\"]\n",
    "    for sym in col_bool:\n",
    "        test_X.loc[:, sym] = int(sym_dict[sym[:-5]].value)\n",
    "    \n",
    "    Y_pred = model.predict(test_X)\n",
    "    non_zero_elems = []\n",
    "    zero_elems = []\n",
    "    for i,sym in enumerate(col_bool):\n",
    "        if (np.sum(Y_pred[:,i])>0):\n",
    "            if (sym_dict[sym[:-5]].value>0):\n",
    "                non_zero_elems.append([i,sym])\n",
    "            else:\n",
    "                zero_elems.append([i,sym])\n",
    "                \n",
    "    color_hsv = cm.get_cmap('hsv', len(non_zero_elems)+len(zero_elems)+1)\n",
    "    ax.cla()\n",
    "    for j,[i,sym] in enumerate(non_zero_elems):\n",
    "        ax.plot(data_std[\"Critical Temperature\"]*test_X[\"Scaled T_c\"],100*Y_pred[:,i],c=color_hsv(j),label=sym[:-5]+\" ~ \"+str('%.2f'%(Y_pred[-1,i]*100))+\"%\",linestyle='-');\n",
    "    for j,[i,sym] in enumerate(zero_elems):\n",
    "        ax.plot(data_std[\"Critical Temperature\"]*test_X[\"Scaled T_c\"],100*Y_pred[:,i],c=color_hsv(j+len(non_zero_elems)),label=sym[:-5]+\" ~ \"+str('%.2f'%(Y_pred[-1,i]*100))+\"%\",linestyle=':');\n",
    "    if len(non_zero_elems)+len(zero_elems)>0:\n",
    "        ax.legend(title=\"Composition at Max(T_c)\", loc='upper left', bbox_to_anchor=(1.0, 1.0), fancybox=True, framealpha=0.1, ncol=1);\n",
    "    ax.set_xlabel(\"Critical Temperature (T_c) [K]\");\n",
    "    ax.set_ylabel(\"Predicted proportion of elements [%]\");\n",
    "    fig.canvas.draw();\n",
    "    plt.show()\n",
    "    # return fig\n",
    "#     display(fig)\n"
   ]
  },
  {
   "cell_type": "markdown",
   "metadata": {},
   "source": [
    "## The plot below is interactive: \n",
    "After manually selecting elements update plot."
   ]
  },
  {
   "cell_type": "code",
   "execution_count": 52,
   "metadata": {
    "scrolled": false
   },
   "outputs": [
    {
     "output_type": "display_data",
     "data": {
      "text/plain": "VBox(children=(Accordion(children=(GridBox(children=(ToggleButton(value=True, description='Ag', layout=Layout(…",
      "application/vnd.jupyter.widget-view+json": {
       "version_major": 2,
       "version_minor": 0,
       "model_id": "c8cc4a5e9ecf4cb8bbf555ceed99b83c"
      }
     },
     "metadata": {}
    },
    {
     "output_type": "display_data",
     "data": {
      "text/plain": "Output(layout=Layout(border='0px solid black'))",
      "application/vnd.jupyter.widget-view+json": {
       "version_major": 2,
       "version_minor": 0,
       "model_id": "8b2008058a02462c8abde0938138d8b5"
      }
     },
     "metadata": {}
    }
   ],
   "source": [
    "plot_out = widgets.interactive_output(show_plot, changed_dict)\n",
    "\n",
    "out1 = widgets.Output(layout={'border': '0px solid black'})\n",
    "arg_dict = {n:sym_dict[n] for n in sorted(list(sym_dict.keys())) }\n",
    "accordian = widgets.Accordion(children=[widgets.GridBox(list(arg_dict.values()), layout=widgets.Layout(grid_template_columns=\"repeat(16, 50px)\"))])\n",
    "accordian.set_title(0,'Elements')\n",
    "\n",
    "with out1:\n",
    "    out1.clear_output()\n",
    "    display(widgets.VBox([accordian,\n",
    "                                        #   layout={'display':'flexbox','grid-column':10}),\n",
    "              widgets.HBox([update_all,sel_all,unsel_all,inv_all,rand_all]), T_range, plot_out]),layout={'color':'black'})\n",
    "\n",
    "out1"
   ]
  },
  {
   "cell_type": "code",
   "execution_count": null,
   "metadata": {},
   "outputs": [],
   "source": []
  }
 ],
 "metadata": {
  "kernelspec": {
   "name": "python3",
   "display_name": "Python 3.7.9 64-bit (conda)",
   "metadata": {
    "interpreter": {
     "hash": "7b4b4feff2f24a0f0a34464dbe537a36fda679851528fb8735cb41fa49dffb2d"
    }
   }
  },
  "language_info": {
   "codemirror_mode": {
    "name": "ipython",
    "version": 3
   },
   "file_extension": ".py",
   "mimetype": "text/x-python",
   "name": "python",
   "nbconvert_exporter": "python",
   "pygments_lexer": "ipython3",
   "version": "3.7.9-final"
  }
 },
 "nbformat": 4,
 "nbformat_minor": 4
}