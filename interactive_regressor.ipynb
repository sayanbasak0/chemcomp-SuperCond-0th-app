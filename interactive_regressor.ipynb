{
 "cells": [
  {
   "cell_type": "markdown",
   "metadata": {},
   "source": [
    "# Searching for chemical compositions of Superconductors"
   ]
  },
  {
   "cell_type": "code",
   "execution_count": 1,
   "metadata": {},
   "outputs": [],
   "source": [
    "from sklearn.model_selection import train_test_split\n",
    "from sklearn.ensemble import RandomForestRegressor\n",
    "from sklearn.metrics import mean_absolute_error "
   ]
  },
  {
   "cell_type": "code",
   "execution_count": 2,
   "metadata": {},
   "outputs": [],
   "source": [
    "import warnings \n",
    "warnings.filterwarnings('ignore')\n",
    "warnings.filterwarnings('ignore', category=DeprecationWarning)"
   ]
  },
  {
   "cell_type": "code",
   "execution_count": 3,
   "metadata": {},
   "outputs": [],
   "source": [
    "import numpy as np\n",
    "import pandas as pd\n",
    "import time\n",
    "%matplotlib inline\n",
    "import matplotlib.pyplot as plt\n",
    "from matplotlib import cm\n",
    "import seaborn as sb\n",
    "from IPython.display import display,HTML\n",
    "import ipywidgets as widgets\n",
    "import random\n",
    "\n",
    "# plt.style.use('dark_background')\n",
    "# from jupyterthemes import jtplot\n",
    "# jtplot.style(theme='monokai', context='notebook', ticks=True, grid=True)\n",
    "import matplotlib as mpl\n",
    "mpl.rcParams['figure.facecolor'] = '#222222'\n",
    "mpl.rcParams['axes.facecolor'] = '#222222'\n",
    "mpl.rcParams['axes.labelcolor'] = '#edece9'\n",
    "mpl.rcParams['xtick.color'] = '#edece9'\n",
    "mpl.rcParams['ytick.color'] = '#edece9'\n",
    "mpl.rcParams['text.color'] = '#edece9' "
   ]
  },
  {
   "cell_type": "markdown",
   "metadata": {},
   "source": [
    "### Load trained Random Forest Regressor model"
   ]
  },
  {
   "cell_type": "code",
   "execution_count": 4,
   "metadata": {},
   "outputs": [],
   "source": [
    "import zipfile\n",
    "import os\n",
    "import pickle\n",
    "\n",
    "filebase = \"rf_regressor\"\n",
    "\n",
    "with zipfile.ZipFile(filebase+\".zip\") as zipref:\n",
    "    zipref.extractall()\n",
    "\n",
    "with open(filebase+\".dat\", 'rb') as f:\n",
    "    model = pickle.load(f)\n",
    "\n",
    "os.remove(filebase+\".dat\")\n",
    "\n",
    "# with open(\"../../sc_data_inc/\"+filebase+\".dat\", 'rb') as f:\n",
    "#     model = pickle.load(f)"
   ]
  },
  {
   "cell_type": "markdown",
   "metadata": {},
   "source": [
    "### Initialize input features "
   ]
  },
  {
   "cell_type": "code",
   "execution_count": 5,
   "metadata": {},
   "outputs": [],
   "source": [
    "data_head = pd.read_csv(\"SC_data_frac.csv\",nrows=0) \n",
    "data_Tc = pd.read_csv(\"SC_data_frac.csv\",usecols=[\"Critical Temperature\"]) "
   ]
  },
  {
   "cell_type": "code",
   "execution_count": 6,
   "metadata": {},
   "outputs": [],
   "source": [
    "col_bool = [col[:-2]+\"_bool\" for col in data_head if col.endswith(\"_x\")]\n",
    "\n",
    "data_headr = [\"Scaled T_c\"]\n",
    "data_headr.extend(col_bool)\n",
    "\n",
    "data_Tc = data_Tc[data_Tc[\"Critical Temperature\"]>0]\n",
    "data_std = data_Tc.std()"
   ]
  },
  {
   "cell_type": "markdown",
   "metadata": {},
   "source": [
    "### Initialize variables for interactive ploting "
   ]
  },
  {
   "cell_type": "code",
   "execution_count": 7,
   "metadata": {},
   "outputs": [],
   "source": [
    "T_range = widgets.IntRangeSlider(value=[1, 100],\n",
    "                                 min=0,\n",
    "                                 max=150,\n",
    "                                 step=1,\n",
    "                                 description='Temperature:',\n",
    "                                 disabled=False,\n",
    "                                 continuous_update=False,\n",
    "                                 orientation='horizontal',\n",
    "                                 readout=True,\n",
    "                                 readout_format='d',\n",
    "                                 style={'description_width': 'initial'}\n",
    "                                )\n",
    "\n",
    "sym_dict = {}\n",
    "for sym in col_bool:\n",
    "    sym_dict[sym[:-5]] = widgets.Checkbox(value=bool(np.random.choice([True,False])),\n",
    "                                          description=sym[:-5],\n",
    "                                          disabled=False,\n",
    "                                          button_style='',\n",
    "                                          indent=False, layout={'width':'50px', 'height':'20px', 'align':'center'}\n",
    "                                         )\n",
    "changed_dict = {}\n",
    "changed_dict['T_range'] = T_range\n",
    "changed_dict['Update'] =  widgets.Checkbox(value=True,\n",
    "                                           description='Update',\n",
    "                                           disabled=False,\n",
    "                                           button_style=''\n",
    "                                          )\n"
   ]
  },
  {
   "cell_type": "code",
   "execution_count": 8,
   "metadata": {},
   "outputs": [],
   "source": [
    "sel_all = widgets.Button(description=\"Select All\")\n",
    "def select_all_elem(button_click):\n",
    "    for sym in col_bool:\n",
    "        sym_dict[sym[:-5]].value = True\n",
    "    changed_dict['Update'].value = not(changed_dict['Update'].value)\n",
    "sel_all.on_click(select_all_elem)\n",
    "\n",
    "unsel_all = widgets.Button(description=\"Unselect All\")\n",
    "def unselect_all_elem(button_click):\n",
    "    for sym in col_bool:\n",
    "        sym_dict[sym[:-5]].value = False\n",
    "    changed_dict['Update'].value = not(changed_dict['Update'].value)\n",
    "unsel_all.on_click(unselect_all_elem)\n",
    "    \n",
    "inv_all = widgets.Button(description=\"Invert Selection\")\n",
    "def invert_all_elem(button_click):\n",
    "    for sym in col_bool:\n",
    "        sym_dict[sym[:-5]].value = not(sym_dict[sym[:-5]].value)\n",
    "    changed_dict['Update'].value = not(changed_dict['Update'].value)\n",
    "inv_all.on_click(invert_all_elem)\n",
    "\n",
    "rand_all = widgets.Button(description=\"Randomize Selection\")\n",
    "def randomize_elem(button_click):\n",
    "    p = np.random.uniform(0,1)\n",
    "    for sym in col_bool:\n",
    "        sym_dict[sym[:-5]].value = bool(np.random.choice([True,False],p=[p,1-p]))\n",
    "    changed_dict['Update'].value = not(changed_dict['Update'].value)\n",
    "rand_all.on_click(randomize_elem)\n",
    "\n",
    "update_all = widgets.Button(description=\"Update Plot\")\n",
    "def update_plot(button_click):\n",
    "    changed_dict['Update'].value = not(changed_dict['Update'].value)\n",
    "update_all.on_click(update_plot)   "
   ]
  },
  {
   "cell_type": "code",
   "execution_count": 33,
   "metadata": {},
   "outputs": [],
   "source": [
    "\n",
    "def show_plot(**kwargs):\n",
    "    global fig,ax\n",
    "    try:\n",
    "        plt.close();\n",
    "        fig = plt.figure(figsize=(12,8));\n",
    "        ax = fig.add_subplot(111);\n",
    "        # ax.cla()\n",
    "        # fig.clf()\n",
    "    except:\n",
    "        fig = plt.figure(figsize=(12,8));\n",
    "        ax = fig.add_subplot(111);\n",
    "    \n",
    "    test_X = pd.DataFrame(columns=data_headr)\n",
    "    t_lim = kwargs['T_range']\n",
    "    # for i,t in enumerate(np.linspace(t_lim[0],t_lim[1],101)):\n",
    "    #     test_X.loc[i,\"Scaled T_c\"] = t/data_std[\"Critical Temperature\"]\n",
    "    test_X.loc[:,\"Scaled T_c\"] = np.linspace(t_lim[0],t_lim[1],101)/data_std[\"Critical Temperature\"]\n",
    "    for sym in col_bool:\n",
    "        test_X.loc[:, sym] = int(sym_dict[sym[:-5]].value)\n",
    "    \n",
    "    Y_pred = model.predict(test_X)\n",
    "    non_zero_elems = []\n",
    "    zero_elems = []\n",
    "    for i,sym in enumerate(col_bool):\n",
    "        if (np.sum(Y_pred[:,i])>0):\n",
    "            if (sym_dict[sym[:-5]].value>0):\n",
    "                non_zero_elems.append([i,sym])\n",
    "            else:\n",
    "                zero_elems.append([i,sym])\n",
    "                \n",
    "    color_hsv = cm.get_cmap('hsv', len(non_zero_elems)+len(zero_elems)+1)\n",
    "    ax.cla()\n",
    "    for j,[i,sym] in enumerate(non_zero_elems):\n",
    "        ax.plot(data_std[\"Critical Temperature\"]*test_X[\"Scaled T_c\"],Y_pred[:,i],c=color_hsv(j),label=sym[:-5]+\"_x\",linestyle='-');\n",
    "    for j,[i,sym] in enumerate(zero_elems):\n",
    "        ax.plot(data_std[\"Critical Temperature\"]*test_X[\"Scaled T_c\"],Y_pred[:,i],c=color_hsv(j+len(non_zero_elems)),label=sym[:-5]+\"_x\",linestyle=':');\n",
    "    if len(non_zero_elems)+len(zero_elems)>0:\n",
    "        ax.legend(loc='upper left', bbox_to_anchor=(1.0, 1.0), fancybox=True, framealpha=0.1, ncol=1);\n",
    "    ax.set_xlabel(\"Temperature (K)\");\n",
    "    ax.set_ylabel(\"Predicted proportion of elements\");\n",
    "    fig.canvas.draw();\n",
    "    plt.show()\n",
    "    return fig\n",
    "#     display(fig)\n"
   ]
  },
  {
   "cell_type": "markdown",
   "metadata": {},
   "source": [
    "## The plot below is interactive: \n",
    "After manually selecting elements update plot."
   ]
  },
  {
   "cell_type": "code",
   "execution_count": 36,
   "metadata": {
    "scrolled": false
   },
   "outputs": [
    {
     "output_type": "display_data",
     "data": {
      "text/plain": "Output(layout=Layout(border='0px solid black'))",
      "application/vnd.jupyter.widget-view+json": {
       "version_major": 2,
       "version_minor": 0,
       "model_id": "108bf77d0efc40e08c290e079f007f69"
      }
     },
     "metadata": {}
    }
   ],
   "source": [
    "plot_out = widgets.interactive_output(show_plot, changed_dict)\n",
    "\n",
    "out1 = widgets.Output(layout={'border': '0px solid black'})\n",
    "arg_dict = {n:sym_dict[n] for n in sorted(list(sym_dict.keys())) }\n",
    "accordian = widgets.Accordion(children=[widgets.GridBox(list(arg_dict.values()), layout=widgets.Layout(grid_template_columns=\"repeat(16, 50px)\"))])\n",
    "accordian.set_title(0,'Elements')\n",
    "\n",
    "with out1:\n",
    "    out1.clear_output()\n",
    "    display(widgets.VBox([accordian,\n",
    "                                        #   layout={'display':'flexbox','grid-column':10}),\n",
    "              widgets.HBox([update_all,sel_all,unsel_all,inv_all,rand_all]), T_range, plot_out]),layout={'color':'black'})\n",
    "\n",
    "out1"
   ]
  },
  {
   "cell_type": "code",
   "execution_count": null,
   "metadata": {},
   "outputs": [],
   "source": []
  }
 ],
 "metadata": {
  "kernelspec": {
   "name": "python3",
   "display_name": "Python 3.7.9 64-bit (conda)",
   "metadata": {
    "interpreter": {
     "hash": "7b4b4feff2f24a0f0a34464dbe537a36fda679851528fb8735cb41fa49dffb2d"
    }
   }
  },
  "language_info": {
   "codemirror_mode": {
    "name": "ipython",
    "version": 3
   },
   "file_extension": ".py",
   "mimetype": "text/x-python",
   "name": "python",
   "nbconvert_exporter": "python",
   "pygments_lexer": "ipython3",
   "version": "3.7.9-final"
  }
 },
 "nbformat": 4,
 "nbformat_minor": 4
}